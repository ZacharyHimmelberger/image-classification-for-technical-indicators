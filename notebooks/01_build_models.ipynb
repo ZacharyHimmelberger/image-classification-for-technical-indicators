{
 "cells": [
  {
   "cell_type": "markdown",
   "metadata": {},
   "source": [
    "# Set-Up"
   ]
  },
  {
   "cell_type": "code",
   "execution_count": 1,
   "metadata": {},
   "outputs": [
    {
     "name": "stdout",
     "output_type": "stream",
     "text": [
      "/workspaces/image-classification-for-technical-indicators\n"
     ]
    }
   ],
   "source": [
    "%pwd  \n",
    "%cd /workspaces/image-classification-for-technical-indicators"
   ]
  },
  {
   "cell_type": "markdown",
   "metadata": {},
   "source": [
    "# Introduction"
   ]
  },
  {
   "cell_type": "markdown",
   "metadata": {},
   "source": [
    "In this notebook, we will build 100 machine learning models with [h2o](https://www.h2o.ai/). \n",
    "In particular, we focus on the [AutoML](https://docs.h2o.ai/h2o-tutorials/latest-stable/h2o-world-2017/automl/index.html) feature.\n",
    "The best models will be saved for future use. "
   ]
  },
  {
   "cell_type": "markdown",
   "metadata": {},
   "source": [
    "# Libraries"
   ]
  },
  {
   "cell_type": "code",
   "execution_count": 2,
   "metadata": {},
   "outputs": [],
   "source": [
    "import h2o\n",
    "\n",
    "from source import h2o_modelling\n"
   ]
  },
  {
   "cell_type": "markdown",
   "metadata": {},
   "source": [
    "# Setup "
   ]
  },
  {
   "cell_type": "markdown",
   "metadata": {},
   "source": [
    "Start the h2o cluster."
   ]
  },
  {
   "cell_type": "code",
   "execution_count": 3,
   "metadata": {},
   "outputs": [
    {
     "name": "stdout",
     "output_type": "stream",
     "text": [
      "Checking whether there is an H2O instance running at http://localhost:54321 . connected.\n",
      "Warning: Your H2O cluster version is too old (7 months and 19 days)!Please download and install the latest version from http://h2o.ai/download/\n"
     ]
    },
    {
     "data": {
      "text/html": [
       "<div style=\"overflow:auto\"><table style=\"width:50%\"><tr><td>H2O_cluster_uptime:</td>\n",
       "<td>33 days 0 hours 11 mins</td></tr>\n",
       "<tr><td>H2O_cluster_timezone:</td>\n",
       "<td>Etc/UTC</td></tr>\n",
       "<tr><td>H2O_data_parsing_timezone:</td>\n",
       "<td>UTC</td></tr>\n",
       "<tr><td>H2O_cluster_version:</td>\n",
       "<td>3.34.0.7</td></tr>\n",
       "<tr><td>H2O_cluster_version_age:</td>\n",
       "<td>7 months and 19 days !!!</td></tr>\n",
       "<tr><td>H2O_cluster_name:</td>\n",
       "<td>H2O_from_python_vscode_tj9xpd</td></tr>\n",
       "<tr><td>H2O_cluster_total_nodes:</td>\n",
       "<td>1</td></tr>\n",
       "<tr><td>H2O_cluster_free_memory:</td>\n",
       "<td>1.769 Gb</td></tr>\n",
       "<tr><td>H2O_cluster_total_cores:</td>\n",
       "<td>30</td></tr>\n",
       "<tr><td>H2O_cluster_allowed_cores:</td>\n",
       "<td>30</td></tr>\n",
       "<tr><td>H2O_cluster_status:</td>\n",
       "<td>locked, healthy</td></tr>\n",
       "<tr><td>H2O_connection_url:</td>\n",
       "<td>http://localhost:54321</td></tr>\n",
       "<tr><td>H2O_connection_proxy:</td>\n",
       "<td>{\"http\": null, \"https\": null}</td></tr>\n",
       "<tr><td>H2O_internal_security:</td>\n",
       "<td>False</td></tr>\n",
       "<tr><td>H2O_API_Extensions:</td>\n",
       "<td>Amazon S3, XGBoost, Algos, AutoML, Core V3, TargetEncoder, Core V4</td></tr>\n",
       "<tr><td>Python_version:</td>\n",
       "<td>3.9.9 final</td></tr></table></div>"
      ],
      "text/plain": [
       "--------------------------  ------------------------------------------------------------------\n",
       "H2O_cluster_uptime:         33 days 0 hours 11 mins\n",
       "H2O_cluster_timezone:       Etc/UTC\n",
       "H2O_data_parsing_timezone:  UTC\n",
       "H2O_cluster_version:        3.34.0.7\n",
       "H2O_cluster_version_age:    7 months and 19 days !!!\n",
       "H2O_cluster_name:           H2O_from_python_vscode_tj9xpd\n",
       "H2O_cluster_total_nodes:    1\n",
       "H2O_cluster_free_memory:    1.769 Gb\n",
       "H2O_cluster_total_cores:    30\n",
       "H2O_cluster_allowed_cores:  30\n",
       "H2O_cluster_status:         locked, healthy\n",
       "H2O_connection_url:         http://localhost:54321\n",
       "H2O_connection_proxy:       {\"http\": null, \"https\": null}\n",
       "H2O_internal_security:      False\n",
       "H2O_API_Extensions:         Amazon S3, XGBoost, Algos, AutoML, Core V3, TargetEncoder, Core V4\n",
       "Python_version:             3.9.9 final\n",
       "--------------------------  ------------------------------------------------------------------"
      ]
     },
     "metadata": {},
     "output_type": "display_data"
    }
   ],
   "source": [
    "h2o.init()\n"
   ]
  },
  {
   "cell_type": "markdown",
   "metadata": {},
   "source": [
    "# Data"
   ]
  },
  {
   "cell_type": "markdown",
   "metadata": {},
   "source": [
    "Load in the data from the parquet files and import to `h2o`.  "
   ]
  },
  {
   "cell_type": "code",
   "execution_count": 21,
   "metadata": {},
   "outputs": [
    {
     "name": "stdout",
     "output_type": "stream",
     "text": [
      "Parse progress: |████████████████████████████████████████████████████████████████| (done) 100%\n",
      "Parse progress: |████████████████████████████████████████████████████████████████| (done) 100%\n",
      "Parse progress: |████████████████████████████████████████████████████████████████| (done) 100%\n",
      "Parse progress: |████████████████████████████████████████████████████████████████| (done) 100%\n"
     ]
    }
   ],
   "source": [
    "bb_line_df = h2o_modelling.parquet_to_h2o(\"data/bb_nobuy_line.parquet.gzip\", \"data/bb_buy_line.parquet.gzip\")\n",
    "bb_candle_df = h2o_modelling.parquet_to_h2o(\"data/bb_nobuy_candle.parquet.gzip\", \"data/bb_buy_candle.parquet.gzip\")\n",
    "macd_line_df = h2o_modelling.parquet_to_h2o(\"data/macd_nobuy_line.parquet.gzip\", \"data/macd_buy_line.parquet.gzip\")\n",
    "macd_candle_df = h2o_modelling.parquet_to_h2o(\"data/macd_nobuy_candle.parquet.gzip\", \"data/macd_buy_candle.parquet.gzip\")\n"
   ]
  },
  {
   "cell_type": "markdown",
   "metadata": {},
   "source": [
    "Prepare the `h2o` dataframe by converting the `label` column to a categorical variable."
   ]
  },
  {
   "cell_type": "code",
   "execution_count": 22,
   "metadata": {},
   "outputs": [],
   "source": [
    "y = 'label'\n",
    "\n",
    "bb_line_df_h2o, bb_line_y, bb_line_x = h2o_modelling.prepare_h2o_df(df=bb_line_df, outcome=y)\n",
    "bb_candle_df_h2o, bb_candle_y, bb_candle_x = h2o_modelling.prepare_h2o_df(df=bb_candle_df, outcome=y)\n",
    "macd_line_df_h2o, macd_line_y, macd_line_x = h2o_modelling.prepare_h2o_df(df=macd_line_df, outcome=y)\n",
    "macd_candle_df_h2o, macd_candle_y, macd_candle_x = h2o_modelling.prepare_h2o_df(df=macd_candle_df, outcome=y)\n"
   ]
  },
  {
   "cell_type": "markdown",
   "metadata": {},
   "source": [
    "# Modelling"
   ]
  },
  {
   "cell_type": "markdown",
   "metadata": {},
   "source": [
    "Build the models! Each model will run for a maximum of 6 hours or create 100 models. "
   ]
  },
  {
   "cell_type": "code",
   "execution_count": 24,
   "metadata": {},
   "outputs": [
    {
     "name": "stdout",
     "output_type": "stream",
     "text": [
      "AutoML progress: |███████████████████████████████████████████████████████████████| (done) 100%\n"
     ]
    },
    {
     "data": {
      "text/html": [
       "<table>\n",
       "<thead>\n",
       "<tr><th>model_id                                                </th><th style=\"text-align: right;\">     auc</th><th style=\"text-align: right;\">  logloss</th><th style=\"text-align: right;\">   aucpr</th><th style=\"text-align: right;\">  mean_per_class_error</th><th style=\"text-align: right;\">    rmse</th><th style=\"text-align: right;\">      mse</th></tr>\n",
       "</thead>\n",
       "<tbody>\n",
       "<tr><td>StackedEnsemble_AllModels_6_AutoML_14_20220809_172134   </td><td style=\"text-align: right;\">0.99535 </td><td style=\"text-align: right;\">0.0797838</td><td style=\"text-align: right;\">0.994618</td><td style=\"text-align: right;\">             0.0294698</td><td style=\"text-align: right;\">0.151006</td><td style=\"text-align: right;\">0.0228029</td></tr>\n",
       "<tr><td>StackedEnsemble_BestOfFamily_7_AutoML_14_20220809_172134</td><td style=\"text-align: right;\">0.99535 </td><td style=\"text-align: right;\">0.0805795</td><td style=\"text-align: right;\">0.994639</td><td style=\"text-align: right;\">             0.0306373</td><td style=\"text-align: right;\">0.151943</td><td style=\"text-align: right;\">0.0230866</td></tr>\n",
       "<tr><td>StackedEnsemble_BestOfFamily_4_AutoML_14_20220809_172134</td><td style=\"text-align: right;\">0.995341</td><td style=\"text-align: right;\">0.0807789</td><td style=\"text-align: right;\">0.994644</td><td style=\"text-align: right;\">             0.0304878</td><td style=\"text-align: right;\">0.151971</td><td style=\"text-align: right;\">0.0230953</td></tr>\n",
       "<tr><td>StackedEnsemble_AllModels_3_AutoML_14_20220809_172134   </td><td style=\"text-align: right;\">0.995339</td><td style=\"text-align: right;\">0.0801739</td><td style=\"text-align: right;\">0.994656</td><td style=\"text-align: right;\">             0.0301456</td><td style=\"text-align: right;\">0.151237</td><td style=\"text-align: right;\">0.0228727</td></tr>\n",
       "<tr><td>StackedEnsemble_BestOfFamily_6_AutoML_14_20220809_172134</td><td style=\"text-align: right;\">0.995163</td><td style=\"text-align: right;\">0.0834108</td><td style=\"text-align: right;\">0.994067</td><td style=\"text-align: right;\">             0.0298615</td><td style=\"text-align: right;\">0.151872</td><td style=\"text-align: right;\">0.023065 </td></tr>\n",
       "<tr><td>StackedEnsemble_AllModels_2_AutoML_14_20220809_172134   </td><td style=\"text-align: right;\">0.995139</td><td style=\"text-align: right;\">0.081982 </td><td style=\"text-align: right;\">0.994401</td><td style=\"text-align: right;\">             0.0306175</td><td style=\"text-align: right;\">0.152945</td><td style=\"text-align: right;\">0.0233921</td></tr>\n",
       "<tr><td>StackedEnsemble_AllModels_1_AutoML_14_20220809_172134   </td><td style=\"text-align: right;\">0.995126</td><td style=\"text-align: right;\">0.0822674</td><td style=\"text-align: right;\">0.994416</td><td style=\"text-align: right;\">             0.0306297</td><td style=\"text-align: right;\">0.153093</td><td style=\"text-align: right;\">0.0234374</td></tr>\n",
       "<tr><td>StackedEnsemble_AllModels_5_AutoML_14_20220809_172134   </td><td style=\"text-align: right;\">0.995121</td><td style=\"text-align: right;\">0.0839209</td><td style=\"text-align: right;\">0.993756</td><td style=\"text-align: right;\">             0.0303471</td><td style=\"text-align: right;\">0.1518  </td><td style=\"text-align: right;\">0.0230432</td></tr>\n",
       "<tr><td>GBM_grid_1_AutoML_14_20220809_172134_model_31           </td><td style=\"text-align: right;\">0.995109</td><td style=\"text-align: right;\">0.0838724</td><td style=\"text-align: right;\">0.994288</td><td style=\"text-align: right;\">             0.0313807</td><td style=\"text-align: right;\">0.154505</td><td style=\"text-align: right;\">0.0238717</td></tr>\n",
       "<tr><td>GBM_grid_1_AutoML_14_20220809_172134_model_27           </td><td style=\"text-align: right;\">0.99506 </td><td style=\"text-align: right;\">0.083909 </td><td style=\"text-align: right;\">0.994315</td><td style=\"text-align: right;\">             0.0310299</td><td style=\"text-align: right;\">0.154128</td><td style=\"text-align: right;\">0.0237553</td></tr>\n",
       "</tbody>\n",
       "</table>"
      ]
     },
     "metadata": {},
     "output_type": "display_data"
    },
    {
     "name": "stdout",
     "output_type": "stream",
     "text": [
      "\n"
     ]
    }
   ],
   "source": [
    "bb_line_lb = h2o_modelling.train_and_save(df=bb_line_df_h2o, outcome=bb_line_y, predictors=bb_line_x, save_path=f\"../models/bb-models/bb_line\", max_models=100, max_runtime_min=6*60)\n",
    "print(bb_line_lb[:10])\n"
   ]
  },
  {
   "cell_type": "code",
   "execution_count": 27,
   "metadata": {},
   "outputs": [
    {
     "name": "stdout",
     "output_type": "stream",
     "text": [
      "AutoML progress: |\n",
      "18:35:47.814: _train param, Dropping bad and constant columns: [pixel_804, pixel_787]\n",
      "\n",
      "███\n",
      "18:36:11.862: _train param, Dropping bad and constant columns: [pixel_804, pixel_787]\n",
      "\n",
      "██████████████████\n",
      "18:39:15.913: _train param, Dropping bad and constant columns: [pixel_804, pixel_787]\n",
      "\n",
      "█████\n",
      "18:40:59.39: _train param, Dropping unused columns: [pixel_804, pixel_787]\n",
      "18:41:01.63: _train param, Dropping bad and constant columns: [pixel_804, pixel_787]\n",
      "\n",
      "█\n",
      "18:41:22.92: _train param, Dropping bad and constant columns: [pixel_804, pixel_787]\n",
      "\n",
      "██\n",
      "18:42:31.159: _train param, Dropping bad and constant columns: [pixel_804, pixel_787]\n",
      "\n",
      "█\n",
      "18:43:32.230: _train param, Dropping bad and constant columns: [pixel_804, pixel_787]\n",
      "\n",
      "██\n",
      "18:44:44.299: _train param, Dropping bad and constant columns: [pixel_804, pixel_787]\n",
      "\n",
      "██████\n",
      "18:46:32.349: _train param, Dropping unused columns: [pixel_804, pixel_787]\n",
      "18:46:34.384: _train param, Dropping unused columns: [pixel_804, pixel_787]\n",
      "\n",
      "\n",
      "18:46:36.410: _train param, Dropping bad and constant columns: [pixel_804, pixel_787]\n",
      "\n",
      "██\n",
      "18:46:58.441: _train param, Dropping bad and constant columns: [pixel_804, pixel_787]\n",
      "\n",
      "█\n",
      "18:48:11.535: _train param, Dropping bad and constant columns: [pixel_804, pixel_787]\n",
      "\n",
      "\n",
      "18:49:00.601: _train param, Dropping unused columns: [pixel_804, pixel_787]\n",
      "18:49:02.641: _train param, Dropping unused columns: [pixel_804, pixel_787]\n",
      "\n",
      "██████████████████████\n",
      "20:07:07.803: _train param, Dropping unused columns: [pixel_804, pixel_787]\n",
      "20:07:09.870: _train param, Dropping unused columns: [pixel_804, pixel_787]\n",
      "\n",
      "\n",
      "20:07:13.962: _train param, Dropping unused columns: [pixel_804, pixel_787]\n",
      "\n",
      "\n",
      "20:07:23.25: _train param, Dropping unused columns: [pixel_804, pixel_787]\n",
      "\n",
      "\n",
      "20:07:27.96: _train param, Dropping unused columns: [pixel_804, pixel_787]\n",
      "\n",
      "\n",
      "20:07:48.168: _train param, Dropping unused columns: [pixel_804, pixel_787]\n",
      "\n",
      "\n",
      "20:08:00.233: _train param, Dropping unused columns: [pixel_804, pixel_787]\n",
      "\n",
      "\n",
      "20:08:14.301: _train param, Dropping unused columns: [pixel_804, pixel_787]\n",
      "\n",
      "| (done) 100%\n"
     ]
    },
    {
     "data": {
      "text/html": [
       "<table>\n",
       "<thead>\n",
       "<tr><th>model_id                                                </th><th style=\"text-align: right;\">     auc</th><th style=\"text-align: right;\">  logloss</th><th style=\"text-align: right;\">   aucpr</th><th style=\"text-align: right;\">  mean_per_class_error</th><th style=\"text-align: right;\">    rmse</th><th style=\"text-align: right;\">      mse</th></tr>\n",
       "</thead>\n",
       "<tbody>\n",
       "<tr><td>StackedEnsemble_AllModels_6_AutoML_15_20220809_183547   </td><td style=\"text-align: right;\">0.982375</td><td style=\"text-align: right;\"> 0.160821</td><td style=\"text-align: right;\">0.978551</td><td style=\"text-align: right;\">             0.0622856</td><td style=\"text-align: right;\">0.217256</td><td style=\"text-align: right;\">0.0472003</td></tr>\n",
       "<tr><td>StackedEnsemble_AllModels_3_AutoML_15_20220809_183547   </td><td style=\"text-align: right;\">0.982344</td><td style=\"text-align: right;\"> 0.160926</td><td style=\"text-align: right;\">0.97848 </td><td style=\"text-align: right;\">             0.0617453</td><td style=\"text-align: right;\">0.217304</td><td style=\"text-align: right;\">0.0472209</td></tr>\n",
       "<tr><td>StackedEnsemble_AllModels_2_AutoML_15_20220809_183547   </td><td style=\"text-align: right;\">0.98193 </td><td style=\"text-align: right;\"> 0.162735</td><td style=\"text-align: right;\">0.977868</td><td style=\"text-align: right;\">             0.0625918</td><td style=\"text-align: right;\">0.218273</td><td style=\"text-align: right;\">0.0476432</td></tr>\n",
       "<tr><td>StackedEnsemble_BestOfFamily_4_AutoML_15_20220809_183547</td><td style=\"text-align: right;\">0.981919</td><td style=\"text-align: right;\"> 0.163409</td><td style=\"text-align: right;\">0.977905</td><td style=\"text-align: right;\">             0.0635059</td><td style=\"text-align: right;\">0.218997</td><td style=\"text-align: right;\">0.0479598</td></tr>\n",
       "<tr><td>StackedEnsemble_BestOfFamily_7_AutoML_15_20220809_183547</td><td style=\"text-align: right;\">0.981898</td><td style=\"text-align: right;\"> 0.163853</td><td style=\"text-align: right;\">0.977975</td><td style=\"text-align: right;\">             0.0634044</td><td style=\"text-align: right;\">0.219016</td><td style=\"text-align: right;\">0.0479679</td></tr>\n",
       "<tr><td>StackedEnsemble_AllModels_5_AutoML_15_20220809_183547   </td><td style=\"text-align: right;\">0.981873</td><td style=\"text-align: right;\"> 0.162318</td><td style=\"text-align: right;\">0.976735</td><td style=\"text-align: right;\">             0.0621695</td><td style=\"text-align: right;\">0.216793</td><td style=\"text-align: right;\">0.0469992</td></tr>\n",
       "<tr><td>StackedEnsemble_AllModels_1_AutoML_15_20220809_183547   </td><td style=\"text-align: right;\">0.981868</td><td style=\"text-align: right;\"> 0.16352 </td><td style=\"text-align: right;\">0.977872</td><td style=\"text-align: right;\">             0.0638006</td><td style=\"text-align: right;\">0.21878 </td><td style=\"text-align: right;\">0.0478648</td></tr>\n",
       "<tr><td>StackedEnsemble_BestOfFamily_3_AutoML_15_20220809_183547</td><td style=\"text-align: right;\">0.98167 </td><td style=\"text-align: right;\"> 0.163636</td><td style=\"text-align: right;\">0.977252</td><td style=\"text-align: right;\">             0.0634187</td><td style=\"text-align: right;\">0.218927</td><td style=\"text-align: right;\">0.0479289</td></tr>\n",
       "<tr><td>StackedEnsemble_BestOfFamily_2_AutoML_15_20220809_183547</td><td style=\"text-align: right;\">0.981621</td><td style=\"text-align: right;\"> 0.164384</td><td style=\"text-align: right;\">0.9775  </td><td style=\"text-align: right;\">             0.0636149</td><td style=\"text-align: right;\">0.219442</td><td style=\"text-align: right;\">0.0481548</td></tr>\n",
       "<tr><td>StackedEnsemble_BestOfFamily_1_AutoML_15_20220809_183547</td><td style=\"text-align: right;\">0.981577</td><td style=\"text-align: right;\"> 0.164711</td><td style=\"text-align: right;\">0.977447</td><td style=\"text-align: right;\">             0.063791 </td><td style=\"text-align: right;\">0.219562</td><td style=\"text-align: right;\">0.0482076</td></tr>\n",
       "</tbody>\n",
       "</table>"
      ]
     },
     "metadata": {},
     "output_type": "display_data"
    },
    {
     "name": "stdout",
     "output_type": "stream",
     "text": [
      "\n"
     ]
    }
   ],
   "source": [
    "bb_candle_lb = h2o_modelling.train_and_save(df=bb_candle_df_h2o, outcome=bb_candle_y, predictors=bb_candle_x, save_path=f\"../models/bb-models/bb_candle\", max_models=100, max_runtime_min=6*60)\n",
    "print(bb_candle_lb[:10])\n"
   ]
  },
  {
   "cell_type": "code",
   "execution_count": 28,
   "metadata": {},
   "outputs": [
    {
     "name": "stdout",
     "output_type": "stream",
     "text": [
      "AutoML progress: |███████████████████████████████████████████████████████████████| (done) 100%\n"
     ]
    },
    {
     "data": {
      "text/html": [
       "<table>\n",
       "<thead>\n",
       "<tr><th>model_id                                                </th><th style=\"text-align: right;\">     auc</th><th style=\"text-align: right;\">  logloss</th><th style=\"text-align: right;\">   aucpr</th><th style=\"text-align: right;\">  mean_per_class_error</th><th style=\"text-align: right;\">    rmse</th><th style=\"text-align: right;\">     mse</th></tr>\n",
       "</thead>\n",
       "<tbody>\n",
       "<tr><td>StackedEnsemble_AllModels_3_AutoML_16_20220809_200853   </td><td style=\"text-align: right;\">0.876778</td><td style=\"text-align: right;\"> 0.435764</td><td style=\"text-align: right;\">0.855521</td><td style=\"text-align: right;\">              0.204057</td><td style=\"text-align: right;\">0.374794</td><td style=\"text-align: right;\">0.14047 </td></tr>\n",
       "<tr><td>StackedEnsemble_AllModels_6_AutoML_16_20220809_200853   </td><td style=\"text-align: right;\">0.876757</td><td style=\"text-align: right;\"> 0.435715</td><td style=\"text-align: right;\">0.855352</td><td style=\"text-align: right;\">              0.202988</td><td style=\"text-align: right;\">0.374745</td><td style=\"text-align: right;\">0.140434</td></tr>\n",
       "<tr><td>StackedEnsemble_AllModels_1_AutoML_16_20220809_200853   </td><td style=\"text-align: right;\">0.875384</td><td style=\"text-align: right;\"> 0.438222</td><td style=\"text-align: right;\">0.853756</td><td style=\"text-align: right;\">              0.204357</td><td style=\"text-align: right;\">0.375885</td><td style=\"text-align: right;\">0.14129 </td></tr>\n",
       "<tr><td>StackedEnsemble_AllModels_2_AutoML_16_20220809_200853   </td><td style=\"text-align: right;\">0.875373</td><td style=\"text-align: right;\"> 0.43814 </td><td style=\"text-align: right;\">0.853795</td><td style=\"text-align: right;\">              0.205074</td><td style=\"text-align: right;\">0.375938</td><td style=\"text-align: right;\">0.14133 </td></tr>\n",
       "<tr><td>StackedEnsemble_AllModels_5_AutoML_16_20220809_200853   </td><td style=\"text-align: right;\">0.874845</td><td style=\"text-align: right;\"> 0.437818</td><td style=\"text-align: right;\">0.851764</td><td style=\"text-align: right;\">              0.202288</td><td style=\"text-align: right;\">0.37559 </td><td style=\"text-align: right;\">0.141068</td></tr>\n",
       "<tr><td>StackedEnsemble_BestOfFamily_4_AutoML_16_20220809_200853</td><td style=\"text-align: right;\">0.874154</td><td style=\"text-align: right;\"> 0.44001 </td><td style=\"text-align: right;\">0.8517  </td><td style=\"text-align: right;\">              0.205201</td><td style=\"text-align: right;\">0.376804</td><td style=\"text-align: right;\">0.141982</td></tr>\n",
       "<tr><td>StackedEnsemble_BestOfFamily_7_AutoML_16_20220809_200853</td><td style=\"text-align: right;\">0.874127</td><td style=\"text-align: right;\"> 0.440126</td><td style=\"text-align: right;\">0.851932</td><td style=\"text-align: right;\">              0.206076</td><td style=\"text-align: right;\">0.376822</td><td style=\"text-align: right;\">0.141995</td></tr>\n",
       "<tr><td>GBM_grid_1_AutoML_16_20220809_200853_model_27           </td><td style=\"text-align: right;\">0.872609</td><td style=\"text-align: right;\"> 0.442593</td><td style=\"text-align: right;\">0.849825</td><td style=\"text-align: right;\">              0.205536</td><td style=\"text-align: right;\">0.378009</td><td style=\"text-align: right;\">0.142891</td></tr>\n",
       "<tr><td>StackedEnsemble_BestOfFamily_3_AutoML_16_20220809_200853</td><td style=\"text-align: right;\">0.872608</td><td style=\"text-align: right;\"> 0.44242 </td><td style=\"text-align: right;\">0.850708</td><td style=\"text-align: right;\">              0.204767</td><td style=\"text-align: right;\">0.378132</td><td style=\"text-align: right;\">0.142984</td></tr>\n",
       "<tr><td>StackedEnsemble_BestOfFamily_2_AutoML_16_20220809_200853</td><td style=\"text-align: right;\">0.872357</td><td style=\"text-align: right;\"> 0.442963</td><td style=\"text-align: right;\">0.850532</td><td style=\"text-align: right;\">              0.209047</td><td style=\"text-align: right;\">0.378178</td><td style=\"text-align: right;\">0.143018</td></tr>\n",
       "</tbody>\n",
       "</table>"
      ]
     },
     "metadata": {},
     "output_type": "display_data"
    },
    {
     "name": "stdout",
     "output_type": "stream",
     "text": [
      "\n"
     ]
    }
   ],
   "source": [
    "macd_line_lb = h2o_modelling.train_and_save(df=macd_line_df_h2o, outcome=macd_line_y, predictors=macd_line_x, save_path=f\"../models/macd-models/macd_line\", max_models=100, max_runtime_min=6*60)\n",
    "print(macd_line_lb[:10])\n"
   ]
  },
  {
   "cell_type": "code",
   "execution_count": 29,
   "metadata": {},
   "outputs": [
    {
     "name": "stdout",
     "output_type": "stream",
     "text": [
      "AutoML progress: |\n",
      "20:59:46.542: _train param, Dropping bad and constant columns: [pixel_787, pixel_786]\n",
      "\n",
      "███\n",
      "21:00:18.584: _train param, Dropping bad and constant columns: [pixel_787, pixel_786]\n",
      "\n",
      "███████████\n",
      "21:02:50.698: _train param, Dropping bad and constant columns: [pixel_787, pixel_786]\n",
      "\n",
      "████\n",
      "21:04:32.359: _train param, Dropping unused columns: [pixel_787, pixel_786]\n",
      "\n",
      "█\n",
      "21:04:34.452: _train param, Dropping bad and constant columns: [pixel_787, pixel_786]\n",
      "\n",
      "█\n",
      "21:05:11.489: _train param, Dropping bad and constant columns: [pixel_787, pixel_786]\n",
      "\n",
      "████\n",
      "21:07:33.468: _train param, Dropping bad and constant columns: [pixel_787, pixel_786]\n",
      "\n",
      "█\n",
      "21:08:38.96: _train param, Dropping bad and constant columns: [pixel_787, pixel_786]\n",
      "\n",
      "████\n",
      "21:10:01.270: _train param, Dropping bad and constant columns: [pixel_787, pixel_786]\n",
      "\n",
      "███████████\n",
      "21:12:38.412: _train param, Dropping unused columns: [pixel_787, pixel_786]\n",
      "\n",
      "\n",
      "21:12:40.445: _train param, Dropping unused columns: [pixel_787, pixel_786]\n",
      "\n",
      "\n",
      "21:12:42.476: _train param, Dropping bad and constant columns: [pixel_787, pixel_786]\n",
      "\n",
      "█\n",
      "21:13:09.522: _train param, Dropping bad and constant columns: [pixel_787, pixel_786]\n",
      "\n",
      "████\n",
      "21:16:06.732: _train param, Dropping bad and constant columns: [pixel_787, pixel_786]\n",
      "\n",
      "█\n",
      "21:16:48.874: _train param, Dropping unused columns: [pixel_787, pixel_786]\n",
      "21:16:50.908: _train param, Dropping unused columns: [pixel_787, pixel_786]\n",
      "\n",
      "█████████████████\n",
      "23:24:49.157: _train param, Dropping unused columns: [pixel_787, pixel_786]\n",
      "\n",
      "\n",
      "23:24:51.303: _train param, Dropping unused columns: [pixel_787, pixel_786]\n",
      "\n",
      "\n",
      "23:59:22.717: _train param, Dropping bad and constant columns: [pixel_787, pixel_786]\n",
      "\n",
      "\n",
      "00:01:24.913: _train param, Dropping unused columns: [pixel_787, pixel_786]\n",
      "\n",
      "\n",
      "00:01:38.79: _train param, Dropping unused columns: [pixel_787, pixel_786]\n",
      "\n",
      "\n",
      "00:01:43.151: _train param, Dropping unused columns: [pixel_787, pixel_786]\n",
      "\n",
      "\n",
      "00:02:20.227: _train param, Dropping unused columns: [pixel_787, pixel_786]\n",
      "\n",
      "\n",
      "00:02:34.309: _train param, Dropping unused columns: [pixel_787, pixel_786]\n",
      "\n",
      "\n",
      "00:02:48.419: _train param, Dropping unused columns: [pixel_787, pixel_786]\n",
      "\n",
      "\n",
      "01:09:43.106: _train param, Dropping unused columns: [pixel_787, pixel_786]\n",
      "\n",
      "\n",
      "01:09:45.196: _train param, Dropping unused columns: [pixel_787, pixel_786]\n",
      "\n",
      "| (done) 100%\n"
     ]
    },
    {
     "data": {
      "text/html": [
       "<table>\n",
       "<thead>\n",
       "<tr><th>model_id                                                                 </th><th style=\"text-align: right;\">     auc</th><th style=\"text-align: right;\">  logloss</th><th style=\"text-align: right;\">   aucpr</th><th style=\"text-align: right;\">  mean_per_class_error</th><th style=\"text-align: right;\">    rmse</th><th style=\"text-align: right;\">     mse</th></tr>\n",
       "</thead>\n",
       "<tbody>\n",
       "<tr><td>StackedEnsemble_Best1000_1_AutoML_17_20220809_205946                     </td><td style=\"text-align: right;\">0.889018</td><td style=\"text-align: right;\"> 0.412323</td><td style=\"text-align: right;\">0.861921</td><td style=\"text-align: right;\">              0.189487</td><td style=\"text-align: right;\">0.363447</td><td style=\"text-align: right;\">0.132093</td></tr>\n",
       "<tr><td>StackedEnsemble_AllModels_3_AutoML_17_20220809_205946                    </td><td style=\"text-align: right;\">0.888412</td><td style=\"text-align: right;\"> 0.41329 </td><td style=\"text-align: right;\">0.861665</td><td style=\"text-align: right;\">              0.190101</td><td style=\"text-align: right;\">0.363923</td><td style=\"text-align: right;\">0.13244 </td></tr>\n",
       "<tr><td>StackedEnsemble_AllModels_6_AutoML_17_20220809_205946                    </td><td style=\"text-align: right;\">0.888326</td><td style=\"text-align: right;\"> 0.413526</td><td style=\"text-align: right;\">0.861645</td><td style=\"text-align: right;\">              0.191423</td><td style=\"text-align: right;\">0.364081</td><td style=\"text-align: right;\">0.132555</td></tr>\n",
       "<tr><td>StackedEnsemble_AllModels_5_AutoML_17_20220809_205946                    </td><td style=\"text-align: right;\">0.887908</td><td style=\"text-align: right;\"> 0.411402</td><td style=\"text-align: right;\">0.858668</td><td style=\"text-align: right;\">              0.188839</td><td style=\"text-align: right;\">0.363098</td><td style=\"text-align: right;\">0.13184 </td></tr>\n",
       "<tr><td>StackedEnsemble_BestOfFamily_8_AutoML_17_20220809_205946                 </td><td style=\"text-align: right;\">0.887132</td><td style=\"text-align: right;\"> 0.415845</td><td style=\"text-align: right;\">0.860224</td><td style=\"text-align: right;\">              0.197629</td><td style=\"text-align: right;\">0.365208</td><td style=\"text-align: right;\">0.133377</td></tr>\n",
       "<tr><td>StackedEnsemble_AllModels_1_AutoML_17_20220809_205946                    </td><td style=\"text-align: right;\">0.886375</td><td style=\"text-align: right;\"> 0.417398</td><td style=\"text-align: right;\">0.858832</td><td style=\"text-align: right;\">              0.195057</td><td style=\"text-align: right;\">0.366013</td><td style=\"text-align: right;\">0.133966</td></tr>\n",
       "<tr><td>StackedEnsemble_AllModels_2_AutoML_17_20220809_205946                    </td><td style=\"text-align: right;\">0.886347</td><td style=\"text-align: right;\"> 0.417354</td><td style=\"text-align: right;\">0.85892 </td><td style=\"text-align: right;\">              0.194455</td><td style=\"text-align: right;\">0.366022</td><td style=\"text-align: right;\">0.133972</td></tr>\n",
       "<tr><td>StackedEnsemble_BestOfFamily_7_AutoML_17_20220809_205946                 </td><td style=\"text-align: right;\">0.88584 </td><td style=\"text-align: right;\"> 0.418435</td><td style=\"text-align: right;\">0.856845</td><td style=\"text-align: right;\">              0.194667</td><td style=\"text-align: right;\">0.366191</td><td style=\"text-align: right;\">0.134095</td></tr>\n",
       "<tr><td>StackedEnsemble_BestOfFamily_4_AutoML_17_20220809_205946                 </td><td style=\"text-align: right;\">0.884565</td><td style=\"text-align: right;\"> 0.420424</td><td style=\"text-align: right;\">0.856535</td><td style=\"text-align: right;\">              0.191831</td><td style=\"text-align: right;\">0.367399</td><td style=\"text-align: right;\">0.134982</td></tr>\n",
       "<tr><td>XGBoost_lr_search_selection_AutoML_17_20220809_205946_select_grid_model_3</td><td style=\"text-align: right;\">0.884086</td><td style=\"text-align: right;\"> 0.421955</td><td style=\"text-align: right;\">0.855226</td><td style=\"text-align: right;\">              0.193653</td><td style=\"text-align: right;\">0.36779 </td><td style=\"text-align: right;\">0.135269</td></tr>\n",
       "</tbody>\n",
       "</table>"
      ]
     },
     "metadata": {},
     "output_type": "display_data"
    },
    {
     "name": "stdout",
     "output_type": "stream",
     "text": [
      "\n"
     ]
    }
   ],
   "source": [
    "macd_candle_lb = h2o_modelling.train_and_save(df=macd_candle_df_h2o, outcome=macd_candle_y, predictors=macd_candle_x, save_path=f\"../models/macd-models/macd_candle\", max_models=100, max_runtime_min=6*60)\n",
    "print(macd_candle_lb[:10])\n"
   ]
  }
 ],
 "metadata": {
  "kernelspec": {
   "display_name": "Python 3.9.9 64-bit",
   "language": "python",
   "name": "python3"
  },
  "language_info": {
   "codemirror_mode": {
    "name": "ipython",
    "version": 3
   },
   "file_extension": ".py",
   "mimetype": "text/x-python",
   "name": "python",
   "nbconvert_exporter": "python",
   "pygments_lexer": "ipython3",
   "version": "3.9.9"
  },
  "orig_nbformat": 4,
  "vscode": {
   "interpreter": {
    "hash": "949777d72b0d2535278d3dc13498b2535136f6dfe0678499012e853ee9abcab1"
   }
  }
 },
 "nbformat": 4,
 "nbformat_minor": 2
}
