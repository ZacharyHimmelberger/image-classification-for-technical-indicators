{
 "cells": [
  {
   "cell_type": "markdown",
   "metadata": {},
   "source": [
    "# Introduction"
   ]
  },
  {
   "cell_type": "markdown",
   "metadata": {},
   "source": [
    "In this notebook, we will build 100 machine learning models with [h2o](https://www.h2o.ai/). \n",
    "In particular, we focus on the [AutoML](https://docs.h2o.ai/h2o-tutorials/latest-stable/h2o-world-2017/automl/index.html) feature.\n",
    "The best models will be saved for future use. "
   ]
  },
  {
   "cell_type": "markdown",
   "metadata": {},
   "source": [
    "# Libraries"
   ]
  },
  {
   "cell_type": "code",
   "execution_count": 68,
   "metadata": {},
   "outputs": [],
   "source": [
    "from source import h2o_modelling\n"
   ]
  },
  {
   "cell_type": "markdown",
   "metadata": {},
   "source": [
    "# Setup "
   ]
  },
  {
   "cell_type": "markdown",
   "metadata": {},
   "source": [
    "Start the h2o cluster."
   ]
  },
  {
   "cell_type": "code",
   "execution_count": 69,
   "metadata": {},
   "outputs": [
    {
     "name": "stdout",
     "output_type": "stream",
     "text": [
      "Checking whether there is an H2O instance running at http://localhost:54321 . connected.\n",
      "Warning: Your H2O cluster version is too old (5 months and 24 days)!Please download and install the latest version from http://h2o.ai/download/\n"
     ]
    },
    {
     "data": {
      "text/html": [
       "<div style=\"overflow:auto\"><table style=\"width:50%\"><tr><td>H2O_cluster_uptime:</td>\n",
       "<td>1 hour 26 mins</td></tr>\n",
       "<tr><td>H2O_cluster_timezone:</td>\n",
       "<td>Etc/UTC</td></tr>\n",
       "<tr><td>H2O_data_parsing_timezone:</td>\n",
       "<td>UTC</td></tr>\n",
       "<tr><td>H2O_cluster_version:</td>\n",
       "<td>3.34.0.7</td></tr>\n",
       "<tr><td>H2O_cluster_version_age:</td>\n",
       "<td>5 months and 24 days !!!</td></tr>\n",
       "<tr><td>H2O_cluster_name:</td>\n",
       "<td>H2O_from_python_vscode_puvpf3</td></tr>\n",
       "<tr><td>H2O_cluster_total_nodes:</td>\n",
       "<td>1</td></tr>\n",
       "<tr><td>H2O_cluster_free_memory:</td>\n",
       "<td>3.649 Gb</td></tr>\n",
       "<tr><td>H2O_cluster_total_cores:</td>\n",
       "<td>4</td></tr>\n",
       "<tr><td>H2O_cluster_allowed_cores:</td>\n",
       "<td>4</td></tr>\n",
       "<tr><td>H2O_cluster_status:</td>\n",
       "<td>locked, healthy</td></tr>\n",
       "<tr><td>H2O_connection_url:</td>\n",
       "<td>http://localhost:54321</td></tr>\n",
       "<tr><td>H2O_connection_proxy:</td>\n",
       "<td>{\"http\": null, \"https\": null}</td></tr>\n",
       "<tr><td>H2O_internal_security:</td>\n",
       "<td>False</td></tr>\n",
       "<tr><td>H2O_API_Extensions:</td>\n",
       "<td>Amazon S3, XGBoost, Algos, AutoML, Core V3, TargetEncoder, Core V4</td></tr>\n",
       "<tr><td>Python_version:</td>\n",
       "<td>3.9.9 final</td></tr></table></div>"
      ],
      "text/plain": [
       "--------------------------  ------------------------------------------------------------------\n",
       "H2O_cluster_uptime:         1 hour 26 mins\n",
       "H2O_cluster_timezone:       Etc/UTC\n",
       "H2O_data_parsing_timezone:  UTC\n",
       "H2O_cluster_version:        3.34.0.7\n",
       "H2O_cluster_version_age:    5 months and 24 days !!!\n",
       "H2O_cluster_name:           H2O_from_python_vscode_puvpf3\n",
       "H2O_cluster_total_nodes:    1\n",
       "H2O_cluster_free_memory:    3.649 Gb\n",
       "H2O_cluster_total_cores:    4\n",
       "H2O_cluster_allowed_cores:  4\n",
       "H2O_cluster_status:         locked, healthy\n",
       "H2O_connection_url:         http://localhost:54321\n",
       "H2O_connection_proxy:       {\"http\": null, \"https\": null}\n",
       "H2O_internal_security:      False\n",
       "H2O_API_Extensions:         Amazon S3, XGBoost, Algos, AutoML, Core V3, TargetEncoder, Core V4\n",
       "Python_version:             3.9.9 final\n",
       "--------------------------  ------------------------------------------------------------------"
      ]
     },
     "metadata": {},
     "output_type": "display_data"
    }
   ],
   "source": [
    "h2o.init()\n"
   ]
  },
  {
   "cell_type": "markdown",
   "metadata": {},
   "source": [
    "# Data"
   ]
  },
  {
   "cell_type": "markdown",
   "metadata": {},
   "source": [
    "Load in the data from the parquet files and import to `h2o`.  "
   ]
  },
  {
   "cell_type": "code",
   "execution_count": 47,
   "metadata": {},
   "outputs": [],
   "source": [
    "bb_line_df = h2o_modelling.parquet_to_h2o(\"data/bb_nobuy_line.parquet.gzip\", \"data/bb_buy_line.parquet.gzip\")\n",
    "bb_candle_df = h2o_modelling.parquet_to_h2o(\"data/bb_nobuy_candle.parquet.gzip\", \"data/bb_buy_candle.parquet.gzip\")\n",
    "macd_line_df = h2o_modelling.parquet_to_h2o(\"data/macd_nobuy_line.parquet.gzip\", \"data/macd_buy_line.parquet.gzip\")\n",
    "macd_candle_df = h2o_modelling.parquet_to_h2o(\"data/macd_nobuy_candle.parquet.gzip\", \"data/macd_buy_candle.parquet.gzip\")\n"
   ]
  },
  {
   "cell_type": "markdown",
   "metadata": {},
   "source": [
    "Prepare the `h2o` dataframe by converting the `label` column to a categorical variable."
   ]
  },
  {
   "cell_type": "code",
   "execution_count": 49,
   "metadata": {},
   "outputs": [],
   "source": [
    "y = 'label'\n",
    "\n",
    "bb_line_y, bb_line_x = h2o_modelling.prepare_h2o_df(df=bb_line_df, outcome=y)\n",
    "bb_candle_y, bb_candle_x = h2o_modelling.prepare_h2o_df(df=bb_candle_df, outcome=y)\n",
    "macd_line_y, macd_line_x = h2o_modelling.prepare_h2o_df(df=macd_line_df, outcome=y)\n",
    "macd_candle_y, macd_candle_x = h2o_modelling.prepare_h2o_df(df=macd_candle_df, outcome=y)\n"
   ]
  },
  {
   "cell_type": "markdown",
   "metadata": {},
   "source": [
    "# Modelling"
   ]
  },
  {
   "cell_type": "markdown",
   "metadata": {},
   "source": [
    "Build the models! Each model will run for a maximum of 6 hours or create 100 models. "
   ]
  },
  {
   "cell_type": "code",
   "execution_count": 67,
   "metadata": {},
   "outputs": [
    {
     "data": {
      "text/plain": [
       "h2o.frame.H2OFrame"
      ]
     },
     "execution_count": 67,
     "metadata": {},
     "output_type": "execute_result"
    }
   ],
   "source": [
    "bb_line_lb = h2o_modelling.train_and_save(df=bb_line_df, outcome=bb_line_y, bb_line_x, f\"models/bb-models/bb_line\", max_models=100, max_runtime_min=6*60)\n",
    "bb_candle_lb = h2o_modelling.train_and_save(df=bb_candle_df, outcome=bb_candle_y, bb_candle_x, f\"models/bb-models/bb_candle\", max_models=100, max_runtime_min=6*60)\n",
    "macd_line_lb = h2o_modelling.train_and_save(df=macd_line_df, outcome=macd_line_y, macd_line_x, f\"models/macd-models/macd_line\", max_models=100, max_runtime_min=6*60)\n",
    "macd_candle_lb = h2o_modelling.train_and_save(df=macd_candle_df, outcome=macd_candle_y, macd_candle_x, f\"models/macd-models/macd_candle\", max_models=100, max_runtime_min=6*60)\n"
   ]
  }
 ],
 "metadata": {
  "interpreter": {
   "hash": "949777d72b0d2535278d3dc13498b2535136f6dfe0678499012e853ee9abcab1"
  },
  "kernelspec": {
   "display_name": "Python 3.9.9 64-bit",
   "language": "python",
   "name": "python3"
  },
  "language_info": {
   "codemirror_mode": {
    "name": "ipython",
    "version": 3
   },
   "file_extension": ".py",
   "mimetype": "text/x-python",
   "name": "python",
   "nbconvert_exporter": "python",
   "pygments_lexer": "ipython3",
   "version": "3.9.9"
  },
  "orig_nbformat": 4
 },
 "nbformat": 4,
 "nbformat_minor": 2
}
