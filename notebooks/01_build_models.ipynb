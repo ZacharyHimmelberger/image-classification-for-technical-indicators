{
 "cells": [
  {
   "cell_type": "markdown",
   "metadata": {},
   "source": [
    "# Set-Up"
   ]
  },
  {
   "cell_type": "code",
   "execution_count": 1,
   "metadata": {},
   "outputs": [
    {
     "name": "stdout",
     "output_type": "stream",
     "text": [
      "/workspaces/image-classification-for-technical-indicators\n"
     ]
    }
   ],
   "source": [
    "%pwd  \n",
    "%cd /workspaces/image-classification-for-technical-indicators"
   ]
  },
  {
   "cell_type": "markdown",
   "metadata": {},
   "source": [
    "# Introduction"
   ]
  },
  {
   "cell_type": "markdown",
   "metadata": {},
   "source": [
    "In this notebook, we will build 100 machine learning models with [h2o](https://www.h2o.ai/). \n",
    "In particular, we focus on the [AutoML](https://docs.h2o.ai/h2o-tutorials/latest-stable/h2o-world-2017/automl/index.html) feature.\n",
    "The best models will be saved for future use. "
   ]
  },
  {
   "cell_type": "markdown",
   "metadata": {},
   "source": [
    "# Libraries"
   ]
  },
  {
   "cell_type": "code",
   "execution_count": 2,
   "metadata": {},
   "outputs": [],
   "source": [
    "import h2o\n",
    "\n",
    "from source import h2o_modelling\n"
   ]
  },
  {
   "cell_type": "markdown",
   "metadata": {},
   "source": [
    "# Setup "
   ]
  },
  {
   "cell_type": "markdown",
   "metadata": {},
   "source": [
    "Start the h2o cluster."
   ]
  },
  {
   "cell_type": "code",
   "execution_count": 3,
   "metadata": {},
   "outputs": [
    {
     "name": "stdout",
     "output_type": "stream",
     "text": [
      "Checking whether there is an H2O instance running at http://localhost:54321 . connected.\n",
      "Warning: Your H2O cluster version is too old (6 months and 20 days)!Please download and install the latest version from http://h2o.ai/download/\n"
     ]
    },
    {
     "data": {
      "text/html": [
       "<div style=\"overflow:auto\"><table style=\"width:50%\"><tr><td>H2O_cluster_uptime:</td>\n",
       "<td>4 hours 42 mins</td></tr>\n",
       "<tr><td>H2O_cluster_timezone:</td>\n",
       "<td>Etc/UTC</td></tr>\n",
       "<tr><td>H2O_data_parsing_timezone:</td>\n",
       "<td>UTC</td></tr>\n",
       "<tr><td>H2O_cluster_version:</td>\n",
       "<td>3.34.0.7</td></tr>\n",
       "<tr><td>H2O_cluster_version_age:</td>\n",
       "<td>6 months and 20 days !!!</td></tr>\n",
       "<tr><td>H2O_cluster_name:</td>\n",
       "<td>H2O_from_python_vscode_hkygsb</td></tr>\n",
       "<tr><td>H2O_cluster_total_nodes:</td>\n",
       "<td>1</td></tr>\n",
       "<tr><td>H2O_cluster_free_memory:</td>\n",
       "<td>3.069 Gb</td></tr>\n",
       "<tr><td>H2O_cluster_total_cores:</td>\n",
       "<td>4</td></tr>\n",
       "<tr><td>H2O_cluster_allowed_cores:</td>\n",
       "<td>4</td></tr>\n",
       "<tr><td>H2O_cluster_status:</td>\n",
       "<td>locked, healthy</td></tr>\n",
       "<tr><td>H2O_connection_url:</td>\n",
       "<td>http://localhost:54321</td></tr>\n",
       "<tr><td>H2O_connection_proxy:</td>\n",
       "<td>{\"http\": null, \"https\": null}</td></tr>\n",
       "<tr><td>H2O_internal_security:</td>\n",
       "<td>False</td></tr>\n",
       "<tr><td>H2O_API_Extensions:</td>\n",
       "<td>Amazon S3, XGBoost, Algos, AutoML, Core V3, TargetEncoder, Core V4</td></tr>\n",
       "<tr><td>Python_version:</td>\n",
       "<td>3.9.9 final</td></tr></table></div>"
      ],
      "text/plain": [
       "--------------------------  ------------------------------------------------------------------\n",
       "H2O_cluster_uptime:         4 hours 42 mins\n",
       "H2O_cluster_timezone:       Etc/UTC\n",
       "H2O_data_parsing_timezone:  UTC\n",
       "H2O_cluster_version:        3.34.0.7\n",
       "H2O_cluster_version_age:    6 months and 20 days !!!\n",
       "H2O_cluster_name:           H2O_from_python_vscode_hkygsb\n",
       "H2O_cluster_total_nodes:    1\n",
       "H2O_cluster_free_memory:    3.069 Gb\n",
       "H2O_cluster_total_cores:    4\n",
       "H2O_cluster_allowed_cores:  4\n",
       "H2O_cluster_status:         locked, healthy\n",
       "H2O_connection_url:         http://localhost:54321\n",
       "H2O_connection_proxy:       {\"http\": null, \"https\": null}\n",
       "H2O_internal_security:      False\n",
       "H2O_API_Extensions:         Amazon S3, XGBoost, Algos, AutoML, Core V3, TargetEncoder, Core V4\n",
       "Python_version:             3.9.9 final\n",
       "--------------------------  ------------------------------------------------------------------"
      ]
     },
     "metadata": {},
     "output_type": "display_data"
    }
   ],
   "source": [
    "h2o.init()\n"
   ]
  },
  {
   "cell_type": "markdown",
   "metadata": {},
   "source": [
    "# Data"
   ]
  },
  {
   "cell_type": "markdown",
   "metadata": {},
   "source": [
    "Load in the data from the parquet files and import to `h2o`.  "
   ]
  },
  {
   "cell_type": "code",
   "execution_count": 4,
   "metadata": {},
   "outputs": [
    {
     "name": "stdout",
     "output_type": "stream",
     "text": [
      "Parse progress: |████████████████████████████████████████████████████████████████| (done) 100%\n"
     ]
    }
   ],
   "source": [
    "bb_line_df = h2o_modelling.parquet_to_h2o(\"data/bb_nobuy_line.parquet.gzip\", \"data/bb_buy_line.parquet.gzip\")\n",
    "bb_candle_df = h2o_modelling.parquet_to_h2o(\"data/bb_nobuy_candle.parquet.gzip\", \"data/bb_buy_candle.parquet.gzip\")\n",
    "macd_line_df = h2o_modelling.parquet_to_h2o(\"data/macd_nobuy_line.parquet.gzip\", \"data/macd_buy_line.parquet.gzip\")\n",
    "macd_candle_df = h2o_modelling.parquet_to_h2o(\"data/macd_nobuy_candle.parquet.gzip\", \"data/macd_buy_candle.parquet.gzip\")\n"
   ]
  },
  {
   "cell_type": "markdown",
   "metadata": {},
   "source": [
    "Prepare the `h2o` dataframe by converting the `label` column to a categorical variable."
   ]
  },
  {
   "cell_type": "code",
   "execution_count": 5,
   "metadata": {},
   "outputs": [
    {
     "name": "stdout",
     "output_type": "stream",
     "text": [
      "['label', 'pixel_0', 'pixel_1', 'pixel_2', 'pixel_3', 'pixel_4', 'pixel_5', 'pixel_6', 'pixel_7', 'pixel_8', 'pixel_9', 'pixel_10', 'pixel_11', 'pixel_12', 'pixel_13', 'pixel_14', 'pixel_15', 'pixel_16', 'pixel_17', 'pixel_18', 'pixel_19', 'pixel_20', 'pixel_21', 'pixel_22', 'pixel_23', 'pixel_24', 'pixel_25', 'pixel_26', 'pixel_27', 'pixel_28', 'pixel_29', 'pixel_30', 'pixel_31', 'pixel_32', 'pixel_33', 'pixel_34', 'pixel_35', 'pixel_36', 'pixel_37', 'pixel_38', 'pixel_39', 'pixel_40', 'pixel_41', 'pixel_42', 'pixel_43', 'pixel_44', 'pixel_45', 'pixel_46', 'pixel_47', 'pixel_48', 'pixel_49', 'pixel_50', 'pixel_51', 'pixel_52', 'pixel_53', 'pixel_54', 'pixel_55', 'pixel_56', 'pixel_57', 'pixel_58', 'pixel_59', 'pixel_60', 'pixel_61', 'pixel_62', 'pixel_63', 'pixel_64', 'pixel_65', 'pixel_66', 'pixel_67', 'pixel_68', 'pixel_69', 'pixel_70', 'pixel_71', 'pixel_72', 'pixel_73', 'pixel_74', 'pixel_75', 'pixel_76', 'pixel_77', 'pixel_78', 'pixel_79', 'pixel_80', 'pixel_81', 'pixel_82', 'pixel_83', 'pixel_84', 'pixel_85', 'pixel_86', 'pixel_87', 'pixel_88', 'pixel_89', 'pixel_90', 'pixel_91', 'pixel_92', 'pixel_93', 'pixel_94', 'pixel_95', 'pixel_96', 'pixel_97', 'pixel_98', 'pixel_99', 'pixel_100', 'pixel_101', 'pixel_102', 'pixel_103', 'pixel_104', 'pixel_105', 'pixel_106', 'pixel_107', 'pixel_108', 'pixel_109', 'pixel_110', 'pixel_111', 'pixel_112', 'pixel_113', 'pixel_114', 'pixel_115', 'pixel_116', 'pixel_117', 'pixel_118', 'pixel_119', 'pixel_120', 'pixel_121', 'pixel_122', 'pixel_123', 'pixel_124', 'pixel_125', 'pixel_126', 'pixel_127', 'pixel_128', 'pixel_129', 'pixel_130', 'pixel_131', 'pixel_132', 'pixel_133', 'pixel_134', 'pixel_135', 'pixel_136', 'pixel_137', 'pixel_138', 'pixel_139', 'pixel_140', 'pixel_141', 'pixel_142', 'pixel_143', 'pixel_144', 'pixel_145', 'pixel_146', 'pixel_147', 'pixel_148', 'pixel_149', 'pixel_150', 'pixel_151', 'pixel_152', 'pixel_153', 'pixel_154', 'pixel_155', 'pixel_156', 'pixel_157', 'pixel_158', 'pixel_159', 'pixel_160', 'pixel_161', 'pixel_162', 'pixel_163', 'pixel_164', 'pixel_165', 'pixel_166', 'pixel_167', 'pixel_168', 'pixel_169', 'pixel_170', 'pixel_171', 'pixel_172', 'pixel_173', 'pixel_174', 'pixel_175', 'pixel_176', 'pixel_177', 'pixel_178', 'pixel_179', 'pixel_180', 'pixel_181', 'pixel_182', 'pixel_183', 'pixel_184', 'pixel_185', 'pixel_186', 'pixel_187', 'pixel_188', 'pixel_189', 'pixel_190', 'pixel_191', 'pixel_192', 'pixel_193', 'pixel_194', 'pixel_195', 'pixel_196', 'pixel_197', 'pixel_198', 'pixel_199', 'pixel_200', 'pixel_201', 'pixel_202', 'pixel_203', 'pixel_204', 'pixel_205', 'pixel_206', 'pixel_207', 'pixel_208', 'pixel_209', 'pixel_210', 'pixel_211', 'pixel_212', 'pixel_213', 'pixel_214', 'pixel_215', 'pixel_216', 'pixel_217', 'pixel_218', 'pixel_219', 'pixel_220', 'pixel_221', 'pixel_222', 'pixel_223', 'pixel_224', 'pixel_225', 'pixel_226', 'pixel_227', 'pixel_228', 'pixel_229', 'pixel_230', 'pixel_231', 'pixel_232', 'pixel_233', 'pixel_234', 'pixel_235', 'pixel_236', 'pixel_237', 'pixel_238', 'pixel_239', 'pixel_240', 'pixel_241', 'pixel_242', 'pixel_243', 'pixel_244', 'pixel_245', 'pixel_246', 'pixel_247', 'pixel_248', 'pixel_249', 'pixel_250', 'pixel_251', 'pixel_252', 'pixel_253', 'pixel_254', 'pixel_255', 'pixel_256', 'pixel_257', 'pixel_258', 'pixel_259', 'pixel_260', 'pixel_261', 'pixel_262', 'pixel_263', 'pixel_264', 'pixel_265', 'pixel_266', 'pixel_267', 'pixel_268', 'pixel_269', 'pixel_270', 'pixel_271', 'pixel_272', 'pixel_273', 'pixel_274', 'pixel_275', 'pixel_276', 'pixel_277', 'pixel_278', 'pixel_279', 'pixel_280', 'pixel_281', 'pixel_282', 'pixel_283', 'pixel_284', 'pixel_285', 'pixel_286', 'pixel_287', 'pixel_288', 'pixel_289', 'pixel_290', 'pixel_291', 'pixel_292', 'pixel_293', 'pixel_294', 'pixel_295', 'pixel_296', 'pixel_297', 'pixel_298', 'pixel_299', 'pixel_300', 'pixel_301', 'pixel_302', 'pixel_303', 'pixel_304', 'pixel_305', 'pixel_306', 'pixel_307', 'pixel_308', 'pixel_309', 'pixel_310', 'pixel_311', 'pixel_312', 'pixel_313', 'pixel_314', 'pixel_315', 'pixel_316', 'pixel_317', 'pixel_318', 'pixel_319', 'pixel_320', 'pixel_321', 'pixel_322', 'pixel_323', 'pixel_324', 'pixel_325', 'pixel_326', 'pixel_327', 'pixel_328', 'pixel_329', 'pixel_330', 'pixel_331', 'pixel_332', 'pixel_333', 'pixel_334', 'pixel_335', 'pixel_336', 'pixel_337', 'pixel_338', 'pixel_339', 'pixel_340', 'pixel_341', 'pixel_342', 'pixel_343', 'pixel_344', 'pixel_345', 'pixel_346', 'pixel_347', 'pixel_348', 'pixel_349', 'pixel_350', 'pixel_351', 'pixel_352', 'pixel_353', 'pixel_354', 'pixel_355', 'pixel_356', 'pixel_357', 'pixel_358', 'pixel_359', 'pixel_360', 'pixel_361', 'pixel_362', 'pixel_363', 'pixel_364', 'pixel_365', 'pixel_366', 'pixel_367', 'pixel_368', 'pixel_369', 'pixel_370', 'pixel_371', 'pixel_372', 'pixel_373', 'pixel_374', 'pixel_375', 'pixel_376', 'pixel_377', 'pixel_378', 'pixel_379', 'pixel_380', 'pixel_381', 'pixel_382', 'pixel_383', 'pixel_384', 'pixel_385', 'pixel_386', 'pixel_387', 'pixel_388', 'pixel_389', 'pixel_390', 'pixel_391', 'pixel_392', 'pixel_393', 'pixel_394', 'pixel_395', 'pixel_396', 'pixel_397', 'pixel_398', 'pixel_399', 'pixel_400', 'pixel_401', 'pixel_402', 'pixel_403', 'pixel_404', 'pixel_405', 'pixel_406', 'pixel_407', 'pixel_408', 'pixel_409', 'pixel_410', 'pixel_411', 'pixel_412', 'pixel_413', 'pixel_414', 'pixel_415', 'pixel_416', 'pixel_417', 'pixel_418', 'pixel_419', 'pixel_420', 'pixel_421', 'pixel_422', 'pixel_423', 'pixel_424', 'pixel_425', 'pixel_426', 'pixel_427', 'pixel_428', 'pixel_429', 'pixel_430', 'pixel_431', 'pixel_432', 'pixel_433', 'pixel_434', 'pixel_435', 'pixel_436', 'pixel_437', 'pixel_438', 'pixel_439', 'pixel_440', 'pixel_441', 'pixel_442', 'pixel_443', 'pixel_444', 'pixel_445', 'pixel_446', 'pixel_447', 'pixel_448', 'pixel_449', 'pixel_450', 'pixel_451', 'pixel_452', 'pixel_453', 'pixel_454', 'pixel_455', 'pixel_456', 'pixel_457', 'pixel_458', 'pixel_459', 'pixel_460', 'pixel_461', 'pixel_462', 'pixel_463', 'pixel_464', 'pixel_465', 'pixel_466', 'pixel_467', 'pixel_468', 'pixel_469', 'pixel_470', 'pixel_471', 'pixel_472', 'pixel_473', 'pixel_474', 'pixel_475', 'pixel_476', 'pixel_477', 'pixel_478', 'pixel_479', 'pixel_480', 'pixel_481', 'pixel_482', 'pixel_483', 'pixel_484', 'pixel_485', 'pixel_486', 'pixel_487', 'pixel_488', 'pixel_489', 'pixel_490', 'pixel_491', 'pixel_492', 'pixel_493', 'pixel_494', 'pixel_495', 'pixel_496', 'pixel_497', 'pixel_498', 'pixel_499', 'pixel_500', 'pixel_501', 'pixel_502', 'pixel_503', 'pixel_504', 'pixel_505', 'pixel_506', 'pixel_507', 'pixel_508', 'pixel_509', 'pixel_510', 'pixel_511', 'pixel_512', 'pixel_513', 'pixel_514', 'pixel_515', 'pixel_516', 'pixel_517', 'pixel_518', 'pixel_519', 'pixel_520', 'pixel_521', 'pixel_522', 'pixel_523', 'pixel_524', 'pixel_525', 'pixel_526', 'pixel_527', 'pixel_528', 'name']\n"
     ]
    }
   ],
   "source": [
    "y = 'label'\n",
    "\n",
    "bb_line_df_h2o, bb_line_y, bb_line_x = h2o_modelling.prepare_h2o_df(df=bb_line_df, outcome=y)\n",
    "bb_candle_df_h2o, bb_candle_y, bb_candle_x = h2o_modelling.prepare_h2o_df(df=bb_candle_df, outcome=y)\n",
    "macd_line_df_h2o, macd_line_y, macd_line_x = h2o_modelling.prepare_h2o_df(df=macd_line_df, outcome=y)\n",
    "macd_candle_df_h2o, macd_candle_y, macd_candle_x = h2o_modelling.prepare_h2o_df(df=macd_candle_df, outcome=y)\n"
   ]
  },
  {
   "cell_type": "markdown",
   "metadata": {},
   "source": [
    "# Modelling"
   ]
  },
  {
   "cell_type": "markdown",
   "metadata": {},
   "source": [
    "Build the models! Each model will run for a maximum of 6 hours or create 100 models. "
   ]
  },
  {
   "cell_type": "code",
   "execution_count": 18,
   "metadata": {},
   "outputs": [
    {
     "name": "stdout",
     "output_type": "stream",
     "text": [
      "AutoML progress: |\n",
      "20:40:56.110: _train param, Dropping bad and constant columns: [name]\n",
      "\n",
      "███████████████████████████████████████████████████████████████| (done) 100%\n"
     ]
    }
   ],
   "source": [
    "bb_line_lb = h2o_modelling.train_and_save(df=bb_line_df_h2o, outcome=bb_line_y, predictors=bb_line_x, save_path=f\"models/bb-models/bb_line\", max_models=1, max_runtime_min=6*60)\n",
    "print(bb_line_lb[:10])\n"
   ]
  },
  {
   "cell_type": "code",
   "execution_count": null,
   "metadata": {},
   "outputs": [],
   "source": [
    "bb_candle_lb = h2o_modelling.train_and_save(df=bb_candle_df_h2o, outcome=bb_candle_y, predictors=bb_candle_x, save_path=f\"models/bb-models/bb_candle\", max_models=100, max_runtime_min=6*60)\n",
    "print(bb_candle_lb[:10])\n"
   ]
  },
  {
   "cell_type": "code",
   "execution_count": null,
   "metadata": {},
   "outputs": [],
   "source": [
    "macd_line_lb = h2o_modelling.train_and_save(df=macd_line_df_h2o, outcome=macd_line_y, predictors=macd_line_x, save_path=f\"models/macd-models/macd_line\", max_models=100, max_runtime_min=6*60)\n",
    "print(macd_line_lb[:10])\n"
   ]
  },
  {
   "cell_type": "code",
   "execution_count": null,
   "metadata": {},
   "outputs": [],
   "source": [
    "macd_candle_lb = h2o_modelling.train_and_save(df=macd_candle_df_h2o, outcome=macd_candle_y, predictors=macd_candle_x, save_path=f\"models/macd-models/macd_candle\", max_models=100, max_runtime_min=6*60)\n",
    "print(macd_candle_lb[:10])\n"
   ]
  }
 ],
 "metadata": {
  "kernelspec": {
   "display_name": "Python 3.8.5 64-bit",
   "language": "python",
   "name": "python3"
  },
  "language_info": {
   "codemirror_mode": {
    "name": "ipython",
    "version": 3
   },
   "file_extension": ".py",
   "mimetype": "text/x-python",
   "name": "python",
   "nbconvert_exporter": "python",
   "pygments_lexer": "ipython3",
   "version": "3.8.5"
  },
  "orig_nbformat": 4,
  "vscode": {
   "interpreter": {
    "hash": "aee8b7b246df8f9039afb4144a1f6fd8d2ca17a180786b69acc140d282b71a49"
   }
  }
 },
 "nbformat": 4,
 "nbformat_minor": 2
}
