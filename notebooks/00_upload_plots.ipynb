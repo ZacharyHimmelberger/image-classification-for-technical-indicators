{
 "cells": [
  {
   "cell_type": "markdown",
   "metadata": {},
   "source": [
    "# Set-up"
   ]
  },
  {
   "cell_type": "code",
   "execution_count": 13,
   "metadata": {},
   "outputs": [
    {
     "name": "stdout",
     "output_type": "stream",
     "text": [
      "/workspaces/image-classification-for-technical-indicators\n"
     ]
    }
   ],
   "source": [
    "%pwd  \n",
    "%cd /workspaces/image-classification-for-technical-indicators"
   ]
  },
  {
   "cell_type": "markdown",
   "metadata": {},
   "source": [
    "# Introduction\n",
    "\n",
    "In this script, we will walk through the entire project. This script will result in plots uploaded in an AWS s3 bucket. \n",
    "\n",
    "# Imports"
   ]
  },
  {
   "cell_type": "code",
   "execution_count": 14,
   "metadata": {},
   "outputs": [],
   "source": [
    "from source import aws\n",
    "from source import features\n",
    "from source import plots\n",
    "\n",
    "import json\n",
    "import time\n",
    "\n",
    "import boto3\n",
    "import pandas as pd\n",
    "import alpaca_trade_api\n"
   ]
  },
  {
   "cell_type": "markdown",
   "metadata": {},
   "source": [
    "# Obtain Raw Data\n",
    "\n",
    "The data consists of 8 years (1 January 2011 - 1 January 2019) of open, high, low, and close data for 505 tickers. All data comes from Alpaca Inc. (https://alpaca.markets/algotrading).\n",
    "\n",
    "We connected to the Amazon AWS Secret Manager to obtain the Alpaca API log-in information. Then, we iterated through the list of S&P 500 firms in the data/list_of_SP_500.csv file and obtained the data from the Alpaca API for each. "
   ]
  },
  {
   "cell_type": "code",
   "execution_count": 15,
   "metadata": {},
   "outputs": [],
   "source": [
    "secret_name = \"AlpacaAPI\"\n",
    "region_name = \"us-east-2\"\n",
    "\n",
    "session = boto3.session.Session()\n",
    "client = session.client(service_name=\"secretsmanager\", region_name=region_name)\n",
    "\n",
    "get_secret_value_response = client.get_secret_value(SecretId=secret_name)\n",
    "secret = json.loads(get_secret_value_response[\"SecretString\"])\n",
    "\n",
    "api_key = secret[\"api_key\"]\n",
    "api_secret = secret[\"api_secret\"]\n",
    "base_url = \"https://api.alpaca.markets\"\n",
    "api = alpaca_trade_api.REST(api_key, api_secret, base_url, api_version=\"v2\")\n",
    "account = api.get_account()\n"
   ]
  },
  {
   "cell_type": "code",
   "execution_count": 45,
   "metadata": {},
   "outputs": [],
   "source": [
    "SP_500_df = pd.read_csv(\n",
    "    \"data/list_of_SP_500.csv\", header=None, names=[\"symbol\", \"name\"]\n",
    ")\n",
    "SP_500 = SP_500_df[\"symbol\"].tolist()\n",
    "\n",
    "list_of_dataframes = []\n",
    "\n",
    "start_dates = [\"2011-01-01 09:30\", \"2014-01-02 09:30\", \"2017-01-02 09:30\"]\n",
    "end_dates = [\"2014-01-01 09:30\", \"2017-01-01 09:30\", \"2019-01-01 09:30\"]\n",
    "\n",
    "for firm in SP_500:\n",
    "    time.sleep(1)  # ensures we don't hit any API limits\n",
    "    for idx in range(len(start_dates)):\n",
    "        get_data = api.get_barset(\n",
    "            symbols=firm,\n",
    "            timeframe=\"day\",\n",
    "            start=pd.Timestamp(start_dates[idx], tz=\"America/New_York\").isoformat(),\n",
    "            end=pd.Timestamp(end_dates[idx], tz=\"America/New_York\").isoformat(),\n",
    "            limit=1000,\n",
    "        ).df.stack(level=0)\n",
    "        list_of_dataframes.append(get_data)\n",
    "\n",
    "df = pd.concat(list_of_dataframes)\n",
    "df.index.names = [\"time\", \"firm\"]\n"
   ]
  },
  {
   "cell_type": "code",
   "execution_count": 46,
   "metadata": {},
   "outputs": [
    {
     "name": "stdout",
     "output_type": "stream",
     "text": [
      "<class 'pandas.core.frame.DataFrame'>\n",
      "MultiIndex: 19617 entries, (Timestamp('2011-01-03 00:00:00-0500', tz='America/New_York'), 'MMM') to (Timestamp('2018-12-31 00:00:00-0500', tz='America/New_York'), 'AMD')\n",
      "Data columns (total 5 columns):\n",
      " #   Column  Non-Null Count  Dtype  \n",
      "---  ------  --------------  -----  \n",
      " 0   close   19617 non-null  float64\n",
      " 1   high    19617 non-null  float64\n",
      " 2   low     19617 non-null  float64\n",
      " 3   open    19617 non-null  float64\n",
      " 4   volume  19617 non-null  int64  \n",
      "dtypes: float64(4), int64(1)\n",
      "memory usage: 904.5+ KB\n"
     ]
    }
   ],
   "source": [
    "df.info()\n"
   ]
  },
  {
   "cell_type": "code",
   "execution_count": 47,
   "metadata": {},
   "outputs": [
    {
     "data": {
      "text/html": [
       "<div>\n",
       "<style scoped>\n",
       "    .dataframe tbody tr th:only-of-type {\n",
       "        vertical-align: middle;\n",
       "    }\n",
       "\n",
       "    .dataframe tbody tr th {\n",
       "        vertical-align: top;\n",
       "    }\n",
       "\n",
       "    .dataframe thead th {\n",
       "        text-align: right;\n",
       "    }\n",
       "</style>\n",
       "<table border=\"1\" class=\"dataframe\">\n",
       "  <thead>\n",
       "    <tr style=\"text-align: right;\">\n",
       "      <th></th>\n",
       "      <th></th>\n",
       "      <th>close</th>\n",
       "      <th>high</th>\n",
       "      <th>low</th>\n",
       "      <th>open</th>\n",
       "      <th>volume</th>\n",
       "    </tr>\n",
       "    <tr>\n",
       "      <th>time</th>\n",
       "      <th>firm</th>\n",
       "      <th></th>\n",
       "      <th></th>\n",
       "      <th></th>\n",
       "      <th></th>\n",
       "      <th></th>\n",
       "    </tr>\n",
       "  </thead>\n",
       "  <tbody>\n",
       "    <tr>\n",
       "      <th>2011-01-03 00:00:00-05:00</th>\n",
       "      <th>MMM</th>\n",
       "      <td>86.7500</td>\n",
       "      <td>87.3300</td>\n",
       "      <td>86.70</td>\n",
       "      <td>86.70</td>\n",
       "      <td>2334302</td>\n",
       "    </tr>\n",
       "    <tr>\n",
       "      <th>2011-01-04 00:00:00-05:00</th>\n",
       "      <th>MMM</th>\n",
       "      <td>86.6101</td>\n",
       "      <td>87.2781</td>\n",
       "      <td>86.28</td>\n",
       "      <td>87.00</td>\n",
       "      <td>2505321</td>\n",
       "    </tr>\n",
       "    <tr>\n",
       "      <th>2011-01-05 00:00:00-05:00</th>\n",
       "      <th>MMM</th>\n",
       "      <td>86.6900</td>\n",
       "      <td>87.9000</td>\n",
       "      <td>86.12</td>\n",
       "      <td>86.29</td>\n",
       "      <td>3834937</td>\n",
       "    </tr>\n",
       "    <tr>\n",
       "      <th>2011-01-06 00:00:00-05:00</th>\n",
       "      <th>MMM</th>\n",
       "      <td>86.1100</td>\n",
       "      <td>87.1900</td>\n",
       "      <td>85.63</td>\n",
       "      <td>86.86</td>\n",
       "      <td>3235494</td>\n",
       "    </tr>\n",
       "    <tr>\n",
       "      <th>2011-01-07 00:00:00-05:00</th>\n",
       "      <th>MMM</th>\n",
       "      <td>86.2000</td>\n",
       "      <td>87.3100</td>\n",
       "      <td>85.95</td>\n",
       "      <td>86.55</td>\n",
       "      <td>3073742</td>\n",
       "    </tr>\n",
       "  </tbody>\n",
       "</table>\n",
       "</div>"
      ],
      "text/plain": [
       "                                  close     high    low   open   volume\n",
       "time                      firm                                         \n",
       "2011-01-03 00:00:00-05:00 MMM   86.7500  87.3300  86.70  86.70  2334302\n",
       "2011-01-04 00:00:00-05:00 MMM   86.6101  87.2781  86.28  87.00  2505321\n",
       "2011-01-05 00:00:00-05:00 MMM   86.6900  87.9000  86.12  86.29  3834937\n",
       "2011-01-06 00:00:00-05:00 MMM   86.1100  87.1900  85.63  86.86  3235494\n",
       "2011-01-07 00:00:00-05:00 MMM   86.2000  87.3100  85.95  86.55  3073742"
      ]
     },
     "execution_count": 47,
     "metadata": {},
     "output_type": "execute_result"
    }
   ],
   "source": [
    "df.head()\n"
   ]
  },
  {
   "cell_type": "markdown",
   "metadata": {},
   "source": [
    "# Add Features\n",
    "\n",
    "We compute three technical indicators: (moving average convergence/divergence)[https://en.wikipedia.org/wiki/MACD] (MACD), (relative strength index)[https://en.wikipedia.org/wiki/Relative_strength_index] (RSI), and (Bollinger Bands)[https://en.wikipedia.org/wiki/Bollinger_Bands] (BB). The MACD is measured over 26 days, RSI over 27 days, and BB over 20 days. A buy signal is triggered when:\n",
    "\n",
    "**MACD:** the MACD crosses above the MACD signal line.\n",
    "\n",
    "**RSI:** the RSI crosses above 30. \n",
    "\n",
    "**BB:** the close value crosses below the lower band.\n",
    "\n",
    "We obtained the technical indicator values, then created a column in the DataFrame to indicate when a buy signal was triggered. "
   ]
  },
  {
   "cell_type": "code",
   "execution_count": 32,
   "metadata": {},
   "outputs": [],
   "source": [
    "df[\"rsi\"] = features.build_indicator(df, \"rsi\", 27)\n",
    "df[\"rsi_buy\"] = features.rsi_buy_indicator(df[\"rsi\"])\n",
    "\n",
    "df[\"bb_lower_band\"] = features.build_indicator(df, \"bbands\", 20)[\"BBL_20_2.0\"]\n",
    "df[\"bb_buy\"] = features.bb_buy_indicator(\n",
    "    bb_lower_band_col=df[\"bb_lower_band\"], close_col=df[\"close\"]\n",
    ")\n",
    "\n",
    "df[\"macd_signal\"] = features.build_indicator(df, \"macd\", 26)[\"MACDs_12_26_9\"]\n",
    "df[\"macd\"] = features.build_indicator(df, \"macd\", 26)[\"MACD_12_26_9\"]\n",
    "df[\"macd_buy\"] = features.macd_buy_indicator(\n",
    "    macd_signal_col=df[\"macd_signal\"], macd_col=df[\"macd\"]\n",
    ")\n"
   ]
  },
  {
   "cell_type": "markdown",
   "metadata": {},
   "source": [
    "We checked to make sure that we had at least 20 buy indicators to sample from."
   ]
  },
  {
   "cell_type": "code",
   "execution_count": 33,
   "metadata": {},
   "outputs": [],
   "source": [
    "too_few_rsi = [\n",
    "    (firm, data[\"rsi_buy\"].sum())\n",
    "    for firm, data in df.groupby(\"firm\")\n",
    "    if (data[\"rsi_buy\"].sum() < 20)\n",
    "]\n",
    "too_few_bb = [\n",
    "    (firm, data[\"bb_buy\"].sum())\n",
    "    for firm, data in df.groupby(\"firm\")\n",
    "    if (data[\"bb_buy\"].sum() < 20)\n",
    "]\n",
    "too_few_macd = [\n",
    "    (firm, data[\"macd_buy\"].sum())\n",
    "    for firm, data in df.groupby(\"firm\")\n",
    "    if (data[\"macd_buy\"].sum() < 20)\n",
    "]\n"
   ]
  },
  {
   "cell_type": "code",
   "execution_count": 34,
   "metadata": {},
   "outputs": [
    {
     "name": "stdout",
     "output_type": "stream",
     "text": [
      "100.0% of firms have fewer than 20 RSI buy signals.\n",
      "10.0% of firms have fewer than 20 BB buy signals.\n",
      "0.0% of firms have fewer than 20 MACD buy signals.\n"
     ]
    }
   ],
   "source": [
    "print(\n",
    "    f'{round(len(too_few_rsi) / len(df.groupby(\"firm\")) * 100, 2)}% of firms have fewer than 20 RSI buy signals.'\n",
    ")\n",
    "print(\n",
    "    f'{round(len(too_few_bb) / len(df.groupby(\"firm\")) * 100, 2)}% of firms have fewer than 20 BB buy signals.'\n",
    ")\n",
    "print(\n",
    "    f'{round(len(too_few_macd) / len(df.groupby(\"firm\")) * 100, 2)}% of firms have fewer than 20 MACD buy signals.'\n",
    ")\n"
   ]
  },
  {
   "cell_type": "markdown",
   "metadata": {},
   "source": [
    "Because none of the firms have at least 20 RSI buy signals, we will exclude that technical indicator from all future analyses.  "
   ]
  },
  {
   "cell_type": "markdown",
   "metadata": {},
   "source": [
    "# Create AWS s3 Bucket\n",
    "\n",
    "We created an AWS s3 Bucket to send the data. "
   ]
  },
  {
   "cell_type": "code",
   "execution_count": 35,
   "metadata": {},
   "outputs": [
    {
     "name": "stdout",
     "output_type": "stream",
     "text": [
      "Unexpected error: An error occurred (BucketAlreadyOwnedByYou) when calling the CreateBucket operation: Your previous request to create the named bucket succeeded and you already own it.\n",
      "Bucket not created.\n"
     ]
    }
   ],
   "source": [
    "bucket = \"line-candle-ohlc-plot\"\n",
    "\n",
    "aws.create_bucket(bucket)\n"
   ]
  },
  {
   "cell_type": "markdown",
   "metadata": {},
   "source": [
    "# Create Plots\n",
    "\n",
    "We randomly sampled 20 buy signals and 20 non-buy signals per firm for the BB and MACD technical indicators. This resulted in [505 firms X 2 indicators X 40 (20 buy signals + 20 non-buy signals) = 40400] sampled signals. For each signal in our sample, we created two plots: an OHLC plot and a line graph. Thus, we made 80800 plots.\n",
    "\n",
    "We created the plots for the technical indicators and save them locally. Next, we send the files to the AWS bucket and delete the local file."
   ]
  },
  {
   "cell_type": "code",
   "execution_count": 37,
   "metadata": {},
   "outputs": [],
   "source": [
    "# macd, buy\n",
    "macd_buy_sampled_indices = (\n",
    "    df[df[\"macd_buy\"] == 1.0]\n",
    "    .pipe(plots.check_signals, \"firm\", \"macd_buy\", 1.0, 20)\n",
    "    .groupby(\"firm\")\n",
    "    .sample(20, random_state=748574)\n",
    "    .index\n",
    ")\n",
    "df[\"macd_buy_sampled\"] = [\n",
    "    True if x in macd_buy_sampled_indices else False for x in df.index\n",
    "]\n",
    "\n",
    "plots.plot_sampled(df, \"macd_buy_sampled\", \"macd\", \"buy\", 26, \"plots/\", \"close\", \"line\")\n",
    "plots.build_h2o_del_dir(\"plots/\", \"data/macd_buy_line.parquet.gzip\", True)\n",
    "\n",
    "plots.plot_sampled(\n",
    "    df, \"macd_buy_sampled\", \"macd\", \"buy\", 26, \"plots/\", \"close\", \"candle\"\n",
    ")\n",
    "plots.build_h2o_del_dir(\"plots/\", \"data/macd_buy_candle.parquet.gzip\", True)\n"
   ]
  },
  {
   "cell_type": "code",
   "execution_count": 39,
   "metadata": {},
   "outputs": [],
   "source": [
    "# macd, no buy\n",
    "macd_nobuy_sampled_indices = (\n",
    "    df[df[\"macd_buy\"] == 0.0]\n",
    "    .pipe(plots.check_signals, \"firm\", \"macd_buy\", 0.0, 20)\n",
    "    .groupby(\"firm\")\n",
    "    .sample(20, random_state=748574)\n",
    "    .index\n",
    ")\n",
    "df[\"macd_nobuy_sampled\"] = [\n",
    "    True if x in macd_nobuy_sampled_indices else False for x in df.index\n",
    "]\n",
    "\n",
    "plots.plot_sampled(\n",
    "    df, \"macd_nobuy_sampled\", \"macd\", \"nobuy\", 26, \"plots/\", \"close\", \"line\"\n",
    ")\n",
    "plots.build_h2o_del_dir(\"plots/\", \"data/macd_nobuy_line.parquet.gzip\", True)\n",
    "\n",
    "plots.plot_sampled(\n",
    "    df, \"macd_nobuy_sampled\", \"macd\", \"nobuy\", 26, \"plots/\", \"close\", \"candle\"\n",
    ")\n",
    "plots.build_h2o_del_dir(\"plots/\", \"data/macd_nobuy_line.parquet.gzip\", True)\n"
   ]
  },
  {
   "cell_type": "code",
   "execution_count": 40,
   "metadata": {},
   "outputs": [],
   "source": [
    "# bb, buy\n",
    "bb_buy_sampled_indices = (\n",
    "    df[df[\"bb_buy\"] == 1.0]\n",
    "    .pipe(plots.check_signals, \"firm\", \"bb_buy\", 1.0, 20)\n",
    "    .groupby(\"firm\")\n",
    "    .sample(20, random_state=9224279)\n",
    "    .index\n",
    ")\n",
    "df[\"bb_buy_sampled\"] = [\n",
    "    True if x in bb_buy_sampled_indices else False for x in df.index\n",
    "]\n",
    "\n",
    "plots.plot_sampled(df, \"bb_buy_sampled\", \"bb\", \"buy\", 20, \"plots/\", \"close\", \"line\")\n",
    "plots.build_h2o_del_dir(\"plots/\", \"data/bb_buy_line.parquet.gzip\", True)\n",
    "\n",
    "plots.plot_sampled(df, \"bb_buy_sampled\", \"bb\", \"buy\", 20, \"plots/\", \"close\", \"candle\")\n",
    "plots.build_h2o_del_dir(\"plots/\", \"data/bb_buy_candle.parquet.gzip\", True)\n"
   ]
  },
  {
   "cell_type": "code",
   "execution_count": 41,
   "metadata": {},
   "outputs": [],
   "source": [
    "bb_nobuy_sampled_indices = (\n",
    "    df[df[\"bb_buy\"] == 0.0]\n",
    "    .pipe(plots.check_signals, \"firm\", \"bb_buy\", 0.0, 20)\n",
    "    .groupby(\"firm\")\n",
    "    .sample(20, random_state=9224279)\n",
    "    .index\n",
    ")\n",
    "df[\"bb_nobuy_sampled\"] = [\n",
    "    True if x in bb_nobuy_sampled_indices else False for x in df.index\n",
    "]\n",
    "\n",
    "plots.plot_sampled(df, \"bb_nobuy_sampled\", \"bb\", \"nobuy\", 20, \"plots/\", \"close\", \"line\")\n",
    "plots.build_h2o_del_dir(\"plots/\", \"data/bb_nobuy_line.parquet.gzip\", True)\n",
    "\n",
    "plots.plot_sampled(\n",
    "    df, \"bb_nobuy_sampled\", \"bb\", \"nobuy\", 20, \"plots/\", \"close\", \"candle\"\n",
    ")\n",
    "plots.build_h2o_del_dir(\"plots/\", \"data/bb_nobuy_candle.parquet.gzip\", True)\n"
   ]
  }
 ],
 "metadata": {
  "interpreter": {
   "hash": "949777d72b0d2535278d3dc13498b2535136f6dfe0678499012e853ee9abcab1"
  },
  "kernelspec": {
   "display_name": "Python 3.9.7 64-bit",
   "name": "python3"
  },
  "language_info": {
   "codemirror_mode": {
    "name": "ipython",
    "version": 3
   },
   "file_extension": ".py",
   "mimetype": "text/x-python",
   "name": "python",
   "nbconvert_exporter": "python",
   "pygments_lexer": "ipython3",
   "version": "3.8.5"
  },
  "orig_nbformat": 4
 },
 "nbformat": 4,
 "nbformat_minor": 2
}
